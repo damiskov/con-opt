{
 "cells": [
  {
   "cell_type": "code",
   "execution_count": 4,
   "metadata": {},
   "outputs": [],
   "source": [
    "import numpy as np\n",
    "import matplotlib.pyplot as plt\n",
    "import scipy.io as sio\n",
    "import pandas as pd"
   ]
  },
  {
   "cell_type": "code",
   "execution_count": 7,
   "metadata": {},
   "outputs": [],
   "source": [
    "def np2lat(A, filename):\n",
    "\tf = open(filename, 'w')\n",
    "\tcols = A.shape[1]\n",
    "\n",
    "\n",
    "\ttabformat = '%.3f'\n",
    "\ttabalign = 'c'*cols\n",
    "\n",
    "\tf.write('\\n\\\\begin{table}[h]\\n')\n",
    "\tf.write('\\\\centering\\n')\n",
    "\tf.write('\\\\begin{tabular}{%s}\\n' %tabalign)\n",
    "\n",
    "\tnp.savetxt(f, A, fmt=tabformat, delimiter='\\t&\\t', newline='\\t \\\\\\\\ \\n')\n",
    "\n",
    "\tf.write('\\\\end{tabular}\\n')\n",
    "\tf.write('\\\\end{table}\\n')\n",
    "\t\n",
    "\tf.flush()\n",
    "\tf.close()  \n",
    " "
   ]
  },
  {
   "cell_type": "code",
   "execution_count": 8,
   "metadata": {},
   "outputs": [],
   "source": [
    "for i in range(1, 5):\n",
    "    file = \"fmincon/fmincon_\" + str(i) + \".mat\"\n",
    "    data = sio.loadmat(file)\n",
    "    savefile = \"fmincon/fmincon_\" + str(i) + \".tex\"\n",
    "    np2lat(data['iterates'], savefile)\n",
    "\n"
   ]
  }
 ],
 "metadata": {
  "kernelspec": {
   "display_name": "introML",
   "language": "python",
   "name": "python3"
  },
  "language_info": {
   "codemirror_mode": {
    "name": "ipython",
    "version": 3
   },
   "file_extension": ".py",
   "mimetype": "text/x-python",
   "name": "python",
   "nbconvert_exporter": "python",
   "pygments_lexer": "ipython3",
   "version": "3.11.7"
  }
 },
 "nbformat": 4,
 "nbformat_minor": 2
}
